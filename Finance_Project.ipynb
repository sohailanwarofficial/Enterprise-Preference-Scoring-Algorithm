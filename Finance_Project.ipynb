{
  "nbformat": 4,
  "nbformat_minor": 0,
  "metadata": {
    "colab": {
      "provenance": []
    },
    "kernelspec": {
      "name": "python3",
      "display_name": "Python 3"
    },
    "language_info": {
      "name": "python"
    }
  },
  "cells": [
    {
      "cell_type": "code",
      "execution_count": 5,
      "metadata": {
        "colab": {
          "base_uri": "https://localhost:8080/"
        },
        "id": "4GbJ3eA24c34",
        "outputId": "dfda4e18-4956-49eb-f127-d1fd90ba6e70"
      },
      "outputs": [
        {
          "output_type": "stream",
          "name": "stdout",
          "text": [
            "     Enterprise  PreferenceScore\n",
            "0  ENTREPRISE 1         1.041939\n",
            "1  ENTREPRISE 2         0.641747\n",
            "3  ENTREPRISE 4         0.375758\n",
            "7  ENTREPRISE 8        -0.034221\n",
            "2  ENTREPRISE 3        -0.094039\n",
            "5  ENTREPRISE 6        -0.213136\n",
            "6  ENTREPRISE 7        -0.279124\n",
            "4  ENTREPRISE 5        -0.436177\n"
          ]
        }
      ],
      "source": [
        "import pandas as pd\n",
        "\n",
        "# Sample data (replace with your dataset)\n",
        "data = {\n",
        "    \"Enterprise\": [\"ENTREPRISE 1\", \"ENTREPRISE 2\", \"ENTREPRISE 3\", \"ENTREPRISE 4\", \"ENTREPRISE 5\", \"ENTREPRISE 6\", \"ENTREPRISE 7\", \"ENTREPRISE 8\"],\n",
        "    \"AcquisitionCost\": [25000000.00, 23000000.30, 9000000.90, 46000000.00, 28000000.20, 47000000.30, 37000000.30, 120000000.00],\n",
        "    \"EnterpriseValue\": [220000000.00, 190000000.00, 71000000.00, 167000000.00, 42000000.10, 82000000.00, 31000000.00, 170000000.00],\n",
        "    \"Gearing\": [0.14, 0.20, 0.56, 1.31, 0.85, 0.36, 0.28, 0.10],\n",
        "    \"IRR\": [0.35, 0.12, 0.084, 0.98, 0.25, 0.079, 0.10, 0.264]\n",
        "}\n",
        "\n",
        "df = pd.DataFrame(data)\n",
        "\n",
        "# Define weights for each indicator\n",
        "weights = {\n",
        "    \"AcquisitionCost\": -1,  # Lower is better\n",
        "    \"EnterpriseValue\": 1,    # Higher is better\n",
        "    \"Gearing\": -1,           # Lower is better\n",
        "    \"IRR\": 1                 # Higher is better\n",
        "}\n",
        "\n",
        "# Normalize data\n",
        "normalized_data = df.copy()\n",
        "for col in df.columns[1:]:\n",
        "    if weights[col] > 0:\n",
        "        normalized_data[col] = df[col] / df[col].max()\n",
        "    else:\n",
        "        normalized_data[col] = df[col] / df[col].max()\n",
        "\n",
        "# Calculate preference score\n",
        "normalized_data[\"PreferenceScore\"] = sum(normalized_data[col] * weights[col] for col in normalized_data.columns[1:])\n",
        "\n",
        "# Rank enterprises based on preference score\n",
        "ranked_enterprises = normalized_data.sort_values(by=\"PreferenceScore\", ascending=False)\n",
        "\n",
        "print(ranked_enterprises[[\"Enterprise\", \"PreferenceScore\"]])\n",
        "\n"
      ]
    },
    {
      "cell_type": "code",
      "source": [
        "import pandas as pd\n",
        "\n",
        "# Sample data (replace with your dataset)\n",
        "data = {\n",
        "    \"Enterprise\": [\"ENTREPRISE 1\", \"ENTREPRISE 2\", \"ENTREPRISE 3\", \"ENTREPRISE 4\", \"ENTREPRISE 5\", \"ENTREPRISE 6\", \"ENTREPRISE 7\", \"ENTREPRISE 8\"],\n",
        "    \"AcquisitionCost\": [25000000.00, 23000000.30, 9000000.90, 46000000.00, 28000000.20, 47000000.30, 37000000.30, 120000000.00],\n",
        "    \"EnterpriseValue\": [220000000.00, 190000000.00, 71000000.00, 167000000.00, 42000000.10, 82000000.00, 31000000.00, 170000000.00],\n",
        "    \"Gearing\": [0.14, 0.20, 0.56, 1.31, 0.85, 0.36, 0.28, 0.10],\n",
        "    \"IRR\": [0.35, 0.12, 0.084, 0.98, 0.25, 0.079, 0.10, 0.264]\n",
        "}\n",
        "\n",
        "df = pd.DataFrame(data)\n",
        "\n",
        "# Define weights for each indicator\n",
        "weights = {\n",
        "    \"AcquisitionCost\": -1,  # Lower is better\n",
        "    \"EnterpriseValue\": 1,    # Higher is better\n",
        "    \"Gearing\": -1,           # Lower is better\n",
        "    \"IRR\": 1                 # Higher is better\n",
        "}\n",
        "\n",
        "# Normalize data\n",
        "normalized_data = df.copy()\n",
        "for col in df.columns[1:]:\n",
        "    if weights[col] > 0:\n",
        "        normalized_data[col] = df[col] / df[col].max()\n",
        "    else:\n",
        "        normalized_data[col] = df[col] / df[col].max()\n",
        "\n",
        "# Calculate preference score\n",
        "normalized_data[\"PreferenceScore\"] = sum(normalized_data[col] * weights[col] for col in normalized_data.columns[1:])\n",
        "\n",
        "# Rank enterprises based on preference score\n",
        "ranked_enterprises = normalized_data.sort_values(by=\"PreferenceScore\", ascending=False)\n",
        "\n",
        "def calculate_enterprise_score(acquisition_cost, enterprise_value, gearing, irr):\n",
        "    input_data = {\n",
        "        \"AcquisitionCost\": acquisition_cost,\n",
        "        \"EnterpriseValue\": enterprise_value,\n",
        "        \"Gearing\": gearing,\n",
        "        \"IRR\": irr\n",
        "    }\n",
        "\n",
        "    normalized_input = {}\n",
        "    for feature, value in input_data.items():\n",
        "        if weights[feature] > 0:\n",
        "            normalized_input[feature] = value / df[feature].max()\n",
        "        else:\n",
        "            normalized_input[feature] = value / df[feature].max()\n",
        "\n",
        "    preference_score = sum(normalized_input[feature] * weights[feature] for feature in input_data.keys())\n",
        "    return preference_score\n",
        "\n",
        "# Example input\n",
        "acquisition_cost = 30000000.00\n",
        "enterprise_value = 150000000.00\n",
        "gearing = 0.25\n",
        "irr = 0.15\n",
        "\n",
        "enterprise_score = calculate_enterprise_score(acquisition_cost, enterprise_value, gearing, irr)\n",
        "print(\"Enterprise Score:\", enterprise_score)\n"
      ],
      "metadata": {
        "id": "X-ltc_5VbPhd",
        "colab": {
          "base_uri": "https://localhost:8080/"
        },
        "outputId": "d95ab365-be50-4b10-e979-1cb46f128c24"
      },
      "execution_count": 6,
      "outputs": [
        {
          "output_type": "stream",
          "name": "stdout",
          "text": [
            "Enterprise Score: 0.39403971165148916\n"
          ]
        }
      ]
    },
    {
      "cell_type": "code",
      "source": [],
      "metadata": {
        "id": "AfILhM9X3rYL"
      },
      "execution_count": null,
      "outputs": []
    }
  ]
}